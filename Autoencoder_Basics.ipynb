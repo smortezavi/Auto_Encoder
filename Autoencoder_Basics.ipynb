{
 "cells": [
  {
   "cell_type": "code",
   "execution_count": 1,
   "metadata": {},
   "outputs": [],
   "source": [
    "import matplotlib.pyplot as plt\n",
    "from PIL import Image\n",
    "from keras.layers import Input, Dense\n",
    "from keras.models import Model"
   ]
  },
  {
   "cell_type": "markdown",
   "metadata": {},
   "source": [
    "+ a simple autoencoder based on a fully-connected layer\n",
    "+ a sparse autoencoder\n",
    "+ a deep fully-connected autoencoder\n",
    "+ a deep convolutional autoencoder\n",
    "+ an image denoising model\n",
    "+ a sequence-to-sequence autoencoder\n",
    "+ a variational autoencoder\n",
    "\n",
    "<img src=\"Images/Enocoder.png\">"
   ]
  },
  {
   "cell_type": "markdown",
   "metadata": {},
   "source": [
    "\"Autoencoding\" is a data compression algorithm where the compression and decompression functions are \n",
    "\n",
    "+ 1) data-specific, \n",
    "\n",
    "+ 2) lossy, and \n",
    "\n",
    "+ 3) learned automatically from examples rather than engineered by a human. \n",
    "\n",
    "To build an autoencoder, you need three things: \n",
    "\n",
    "+ an encoding function, \n",
    "+ a decoding function,\n",
    "+ distance function between the amount of information loss between the compressed representation of your data and the decompressed representation (i.e. a \"loss\" function)\n",
    "\n",
    "What are autoencoders good for?\n",
    "They are rarely used in practical applications. In 2012 they briefly found an application in greedy layer-wise pretraining for deep convolutional neural networks [1], but this quickly fell out of fashion as we started realizing that better random weight initialization schemes were sufficient for training deep networks from scratch. In 2014, batch normalization [2] started allowing for even deeper networks, and from late 2015 we could train arbitrarily deep networks from scratch using residual learning [3].\n",
    "\n",
    "Today two interesting practical applications of autoencoders are \n",
    "\n",
    "+ 1. data denoising (which we feature later in this post), \n",
    "+ 2. dimensionality reduction for data visualization.\n",
    "\n",
    "With appropriate dimensionality and sparsity constraints, autoencoders can learn data projections that are more interesting than PCA or other basic techniques.\n",
    "\n",
    "For 2D visualization specifically, t-SNE (pronounced \"tee-snee\") is probably the best algorithm around, but it typically requires relatively low-dimensional data. So a good strategy for visualizing similarity relationships in high-dimensional data is to start by using an autoencoder to compress your data into a low-dimensional space (e.g. 32 dimensional), then use t-SNE for mapping the compressed data to a 2D plane. Note that a nice parametric implementation of t-SNE in Keras was developed by Kyle McDonald and is available on Github. Otherwise scikit-learn also has a simple and practical implementation.\n",
    "\n",
    "In self-supervized learning applied to vision, a potentially fruitful alternative to autoencoder-style input reconstruction is the use of toy tasks such as jigsaw puzzle solving, or detail-context matching (being able to match high-resolution but small patches of pictures with low-resolution versions of the pictures they are extracted from). The following paper investigates jigsaw puzzle solving and makes for a very interesting read: Noroozi and Favaro (2016) Unsupervised Learning of Visual Representations by Solving Jigsaw Puzzles. Such tasks are providing the model with built-in assumptions about the input data which are missing in traditional autoencoders, such as \"visual macro-structure matters more than pixel-level details\"."
   ]
  },
  {
   "cell_type": "markdown",
   "metadata": {},
   "source": [
    "## Simple Auto Encoder"
   ]
  },
  {
   "cell_type": "markdown",
   "metadata": {},
   "source": [
    "<img src=\"Images/basic_autoencoder.jpg\">"
   ]
  },
  {
   "cell_type": "code",
   "execution_count": 5,
   "metadata": {},
   "outputs": [],
   "source": [
    "# thisis the size of our encoded representations\n",
    "encoding_dim = 32 # \n",
    "\n",
    "# this is our input placeholder\n",
    "input_img = Input(shape=(784,))\n",
    "\n",
    "# \"encoded\" is the encoded rep of the input\n",
    "encoded = Dense(encoding_dim, activation='relu')(input_img)\n",
    "\n",
    "#this model maps an input to its encoded rep\n",
    "encoder = Model(input_img, encoded)\n",
    "\n",
    "#\"decoded is the lossy reconstruction of the input\"\n",
    "decoded = Dense(784, activation='sigmoid')(encoded)\n",
    "\n",
    "\n",
    "\n",
    "# this model maps an input to its reconstruction\n",
    "autoencoder = Model(input_img, decoded)\n",
    "\n",
    "# create a placehoder for an encoded (32-dim) input\n",
    "encoded_input = Input(shape=(encoding_dim,))\n",
    "\n",
    "# retrive the last of the autencoder model\n",
    "decoder_layer = autoencoder.layers[-1]\n",
    "all_layer = autoencoder.layers\n",
    "\n",
    "#create the decoder model\n",
    "decoder = Model(encoded_input, decoder_layer(encoded_input))\n",
    "\n",
    "#First, we'll configure our model to use a per-pixel binary crossentropy loss, and the Adadelta optimizer:\n",
    "autoencoder.compile(optimizer='adadelta', loss='binary_crossentropy')"
   ]
  },
  {
   "cell_type": "code",
   "execution_count": 7,
   "metadata": {},
   "outputs": [],
   "source": [
    "# Let's prepare our input data. Let's prepare our input data. We're using MNIST digits, and we're discarding the labels (since we're only interested in encoding/decoding the input images).\n",
    "from keras.datasets import mnist\n",
    "import numpy as np\n",
    "(x_train, _), (x_test, _) = mnist.load_data()\n",
    "x_train = x_train.astype('float32') / 255\n",
    "x_test = x_test.astype('float32') / 255\n",
    "x_train = x_train.reshape((len(x_train), np.prod(x_train.shape[1:])))\n",
    "x_test = x_test.reshape((len(x_test), np.prod(x_test.shape[1:])))\n",
    "print(x_train.shape)\n",
    "print(x_test.shape)"
   ]
  },
  {
   "cell_type": "code",
   "execution_count": 59,
   "metadata": {},
   "outputs": [
    {
     "name": "stdout",
     "output_type": "stream",
     "text": [
      "Train on 51000 samples, validate on 9000 samples\n",
      "Epoch 1/50\n",
      "51000/51000 [==============================] - 1s 29us/step - loss: 0.0982 - val_loss: 0.0985\n",
      "Epoch 2/50\n",
      "51000/51000 [==============================] - 1s 26us/step - loss: 0.0981 - val_loss: 0.0985\n",
      "Epoch 3/50\n",
      "51000/51000 [==============================] - 1s 26us/step - loss: 0.0981 - val_loss: 0.0984\n",
      "Epoch 4/50\n",
      "51000/51000 [==============================] - 1s 27us/step - loss: 0.0980 - val_loss: 0.0983\n",
      "Epoch 5/50\n",
      "51000/51000 [==============================] - 1s 27us/step - loss: 0.0979 - val_loss: 0.0983\n",
      "Epoch 6/50\n",
      "51000/51000 [==============================] - 1s 27us/step - loss: 0.0979 - val_loss: 0.0982\n",
      "Epoch 7/50\n",
      "51000/51000 [==============================] - 1s 27us/step - loss: 0.0978 - val_loss: 0.0981\n",
      "Epoch 8/50\n",
      "51000/51000 [==============================] - 1s 26us/step - loss: 0.0977 - val_loss: 0.0981\n",
      "Epoch 9/50\n",
      "51000/51000 [==============================] - 1s 27us/step - loss: 0.0977 - val_loss: 0.0980\n",
      "Epoch 10/50\n",
      "51000/51000 [==============================] - 1s 27us/step - loss: 0.0976 - val_loss: 0.0980\n",
      "Epoch 11/50\n",
      "51000/51000 [==============================] - 1s 29us/step - loss: 0.0976 - val_loss: 0.0979\n",
      "Epoch 12/50\n",
      "51000/51000 [==============================] - 2s 30us/step - loss: 0.0975 - val_loss: 0.0979\n",
      "Epoch 13/50\n",
      "51000/51000 [==============================] - 1s 28us/step - loss: 0.0975 - val_loss: 0.0978\n",
      "Epoch 14/50\n",
      "51000/51000 [==============================] - 1s 28us/step - loss: 0.0974 - val_loss: 0.0978\n",
      "Epoch 15/50\n",
      "51000/51000 [==============================] - 1s 29us/step - loss: 0.0974 - val_loss: 0.0978\n",
      "Epoch 16/50\n",
      "51000/51000 [==============================] - 1s 29us/step - loss: 0.0973 - val_loss: 0.0977\n",
      "Epoch 17/50\n",
      "51000/51000 [==============================] - 1s 27us/step - loss: 0.0973 - val_loss: 0.0976\n",
      "Epoch 18/50\n",
      "51000/51000 [==============================] - 1s 27us/step - loss: 0.0972 - val_loss: 0.0976\n",
      "Epoch 19/50\n",
      "51000/51000 [==============================] - 1s 27us/step - loss: 0.0972 - val_loss: 0.0976\n",
      "Epoch 20/50\n",
      "51000/51000 [==============================] - 1s 26us/step - loss: 0.0972 - val_loss: 0.0975\n",
      "Epoch 21/50\n",
      "51000/51000 [==============================] - 1s 23us/step - loss: 0.0971 - val_loss: 0.0975\n",
      "Epoch 22/50\n",
      "51000/51000 [==============================] - 1s 29us/step - loss: 0.0971 - val_loss: 0.0975\n",
      "Epoch 23/50\n",
      "51000/51000 [==============================] - 2s 30us/step - loss: 0.0970 - val_loss: 0.0975\n",
      "Epoch 24/50\n",
      "51000/51000 [==============================] - 2s 36us/step - loss: 0.0970 - val_loss: 0.0974\n",
      "Epoch 25/50\n",
      "51000/51000 [==============================] - 2s 42us/step - loss: 0.0970 - val_loss: 0.0974\n",
      "Epoch 26/50\n",
      "51000/51000 [==============================] - 2s 31us/step - loss: 0.0969 - val_loss: 0.0973\n",
      "Epoch 27/50\n",
      "51000/51000 [==============================] - 2s 31us/step - loss: 0.0969 - val_loss: 0.0973\n",
      "Epoch 28/50\n",
      "51000/51000 [==============================] - 2s 39us/step - loss: 0.0969 - val_loss: 0.0973\n",
      "Epoch 29/50\n",
      "51000/51000 [==============================] - 1s 28us/step - loss: 0.0968 - val_loss: 0.0972\n",
      "Epoch 30/50\n",
      "51000/51000 [==============================] - 1s 26us/step - loss: 0.0968 - val_loss: 0.0972\n",
      "Epoch 31/50\n",
      "51000/51000 [==============================] - 1s 26us/step - loss: 0.0968 - val_loss: 0.0972\n",
      "Epoch 32/50\n",
      "51000/51000 [==============================] - 1s 27us/step - loss: 0.0967 - val_loss: 0.0972\n",
      "Epoch 33/50\n",
      "51000/51000 [==============================] - 1s 27us/step - loss: 0.0967 - val_loss: 0.0971\n",
      "Epoch 34/50\n",
      "51000/51000 [==============================] - 1s 28us/step - loss: 0.0967 - val_loss: 0.0971\n",
      "Epoch 35/50\n",
      "51000/51000 [==============================] - 2s 30us/step - loss: 0.0966 - val_loss: 0.0971\n",
      "Epoch 36/50\n",
      "51000/51000 [==============================] - 1s 29us/step - loss: 0.0966 - val_loss: 0.0970\n",
      "Epoch 37/50\n",
      "51000/51000 [==============================] - 2s 32us/step - loss: 0.0966 - val_loss: 0.0970\n",
      "Epoch 38/50\n",
      "51000/51000 [==============================] - 2s 34us/step - loss: 0.0966 - val_loss: 0.0970\n",
      "Epoch 39/50\n",
      "51000/51000 [==============================] - 2s 33us/step - loss: 0.0965 - val_loss: 0.0970\n",
      "Epoch 40/50\n",
      "51000/51000 [==============================] - 2s 31us/step - loss: 0.0965 - val_loss: 0.0969\n",
      "Epoch 41/50\n",
      "51000/51000 [==============================] - 2s 30us/step - loss: 0.0965 - val_loss: 0.0969\n",
      "Epoch 42/50\n",
      "51000/51000 [==============================] - 1s 29us/step - loss: 0.0965 - val_loss: 0.0969\n",
      "Epoch 43/50\n",
      "51000/51000 [==============================] - 2s 31us/step - loss: 0.0964 - val_loss: 0.0969\n",
      "Epoch 44/50\n",
      "51000/51000 [==============================] - 1s 29us/step - loss: 0.0964 - val_loss: 0.0968\n",
      "Epoch 45/50\n",
      "51000/51000 [==============================] - 2s 31us/step - loss: 0.0964 - val_loss: 0.0968\n",
      "Epoch 46/50\n",
      "51000/51000 [==============================] - 2s 34us/step - loss: 0.0964 - val_loss: 0.0968\n",
      "Epoch 47/50\n",
      "51000/51000 [==============================] - 1s 29us/step - loss: 0.0963 - val_loss: 0.0968\n",
      "Epoch 48/50\n",
      "51000/51000 [==============================] - 2s 31us/step - loss: 0.0963 - val_loss: 0.0968\n",
      "Epoch 49/50\n",
      "51000/51000 [==============================] - 1s 28us/step - loss: 0.0963 - val_loss: 0.0967\n",
      "Epoch 50/50\n",
      "51000/51000 [==============================] - 2s 30us/step - loss: 0.0963 - val_loss: 0.0967\n"
     ]
    },
    {
     "data": {
      "text/plain": [
       "<keras.callbacks.callbacks.History at 0x16224b860>"
      ]
     },
     "execution_count": 59,
     "metadata": {},
     "output_type": "execute_result"
    }
   ],
   "source": [
    "autoencoder.fit(x_train, x_train,\n",
    "               epochs=50, \n",
    "               batch_size = 256,\n",
    "               shuffle=True,\n",
    "               validation_split=.15)"
   ]
  },
  {
   "cell_type": "code",
   "execution_count": 62,
   "metadata": {},
   "outputs": [
    {
     "data": {
      "text/plain": [
       "<matplotlib.collections.PathCollection at 0x15d611ef0>"
      ]
     },
     "execution_count": 62,
     "metadata": {},
     "output_type": "execute_result"
    },
    {
     "data": {
      "image/png": "[encoded data removed]",
      "text/plain": [
       "<Figure size 432x288 with 1 Axes>"
      ]
     },
     "metadata": {
      "needs_background": "light"
     },
     "output_type": "display_data"
    }
   ],
   "source": [
    "train_loss = autoencoder.history.history['loss']\n",
    "val_loss = autoencoder.history.history['val_loss']\n",
    "plt.scatter(autoencoder.history.epoch[20:],train_loss[20:],c='r')\n",
    "plt.scatter(autoencoder.history.epoch[20:],val_loss[20:])"
   ]
  },
  {
   "cell_type": "code",
   "execution_count": 65,
   "metadata": {},
   "outputs": [
    {
     "data": {
      "image/png": "[encoded data removed]",
      "text/plain": [
       "<Figure size 1440x288 with 20 Axes>"
      ]
     },
     "metadata": {
      "needs_background": "light"
     },
     "output_type": "display_data"
    }
   ],
   "source": [
    "encoded_imgs = encoder.predict(x_test)\n",
    "decoded_imgs = decoder.predict(encoded_imgs)\n",
    "n = 10\n",
    "plt.figure(figsize=(20 ,4))\n",
    "for i in range(n):\n",
    "    ax = plt.subplot(2, n, i + 1)\n",
    "    plt.imshow(x_test[i].reshape(28, 28))\n",
    "    plt.gray()\n",
    "    ax.get_xaxis().set_visible(False)\n",
    "    ax.get_yaxis().set_visible(False)\n",
    "\n",
    "    # display reconstruction\n",
    "    ax = plt.subplot(2, n, i + 1 + n)\n",
    "    plt.imshow(decoded_imgs[i].reshape(28, 28))\n",
    "    plt.gray()\n",
    "    ax.get_xaxis().set_visible(False)\n",
    "    ax.get_yaxis().set_visible(False)\n",
    "plt.show()"
   ]
  },
  {
   "cell_type": "markdown",
   "metadata": {},
   "source": [
    "## Adding a sparsity constraint on the encoded representations\n",
    "\n",
    "## Add regularization\n",
    "\n",
    "In the previous example, the representations were only constrained by the size of the hidden layer (32). In such a situation, what typically happens is that the hidden layer is learning an approximation of PCA (principal component analysis). But another way to constrain the representations to be compact is to add a sparsity contraint on the activity of the hidden representations, so fewer units would \"fire\" at a given time. In Keras, this can be done by adding an activity_regularizer to our Dense layer:"
   ]
  },
  {
   "cell_type": "code",
   "execution_count": 73,
   "metadata": {},
   "outputs": [],
   "source": [
    "from keras import regularizers"
   ]
  },
  {
   "cell_type": "code",
   "execution_count": 80,
   "metadata": {},
   "outputs": [],
   "source": [
    "# thisis the size of our encoded representations\n",
    "encoding_dim = 32 # \n",
    "\n",
    "# this is our input placeholder\n",
    "input_img = Input(shape=(784,))\n",
    "\n",
    "#### right here the change to regularizationg\n",
    "\n",
    "# \"encoded\" is the encoded rep of the input\n",
    "encoded = Dense(encoding_dim, activation='relu', activity_regularizer=regularizers.l1(10e-8))(input_img)\n",
    "\n",
    "#this model maps an input to its encoded rep\n",
    "encoder = Model(input_img, encoded)\n",
    "\n",
    "#\"decoded is the lossy reconstruction of the input\"\n",
    "decoded = Dense(784, activation='sigmoid')(encoded)\n",
    "\n",
    "\n",
    "\n",
    "# this model maps an input to its reconstruction\n",
    "autoencoder = Model(input_img, decoded)\n",
    "\n",
    "# create a placehoder for an encoded (32-dim) input\n",
    "encoded_input = Input(shape=(encoding_dim,))\n",
    "\n",
    "# retrive the last of the autencoder model\n",
    "decoder_layer = autoencoder.layers[-1]\n",
    "all_layer = autoencoder.layers\n",
    "\n",
    "#create the decoder model\n",
    "decoder = Model(encoded_input, decoder_layer(encoded_input))\n",
    "\n",
    "#First, we'll configure our model to use a per-pixel binary crossentropy loss, and the Adadelta optimizer:\n",
    "autoencoder.compile(optimizer='adadelta', loss='binary_crossentropy')"
   ]
  },
  {
   "cell_type": "code",
   "execution_count": 81,
   "metadata": {},
   "outputs": [
    {
     "name": "stdout",
     "output_type": "stream",
     "text": [
      "(60000, 784)\n",
      "(10000, 784)\n"
     ]
    }
   ],
   "source": [
    "# Let's prepare our input data. Let's prepare our input data. We're using MNIST digits, and we're discarding the labels (since we're only interested in encoding/decoding the input images).\n",
    "(x_train, _), (x_test, _) = mnist.load_data()\n",
    "x_train = x_train.astype('float32') / 255\n",
    "x_test = x_test.astype('float32') / 255\n",
    "x_train = x_train.reshape((len(x_train), np.prod(x_train.shape[1:])))\n",
    "x_test = x_test.reshape((len(x_test), np.prod(x_test.shape[1:])))\n",
    "print(x_train.shape)\n",
    "print(x_test.shape)"
   ]
  },
  {
   "cell_type": "code",
   "execution_count": 82,
   "metadata": {},
   "outputs": [
    {
     "name": "stdout",
     "output_type": "stream",
     "text": [
      "Train on 51000 samples, validate on 9000 samples\n",
      "Epoch 1/100\n",
      "51000/51000 [==============================] - 1s 29us/step - loss: 0.3785 - val_loss: 0.2753\n",
      "Epoch 2/100\n",
      "51000/51000 [==============================] - 1s 25us/step - loss: 0.2713 - val_loss: 0.2628\n",
      "Epoch 3/100\n",
      "51000/51000 [==============================] - 1s 25us/step - loss: 0.2563 - val_loss: 0.2453\n",
      "Epoch 4/100\n",
      "51000/51000 [==============================] - 1s 24us/step - loss: 0.2379 - val_loss: 0.2271\n",
      "Epoch 5/100\n",
      "51000/51000 [==============================] - 1s 24us/step - loss: 0.2214 - val_loss: 0.2126\n",
      "Epoch 6/100\n",
      "51000/51000 [==============================] - 1s 27us/step - loss: 0.2088 - val_loss: 0.2017\n",
      "Epoch 7/100\n",
      "51000/51000 [==============================] - 1s 26us/step - loss: 0.1993 - val_loss: 0.1937\n",
      "Epoch 8/100\n",
      "51000/51000 [==============================] - 1s 26us/step - loss: 0.1920 - val_loss: 0.1872\n",
      "Epoch 9/100\n",
      "51000/51000 [==============================] - 1s 27us/step - loss: 0.1862 - val_loss: 0.1821\n",
      "Epoch 10/100\n",
      "51000/51000 [==============================] - 1s 26us/step - loss: 0.1812 - val_loss: 0.1775\n",
      "Epoch 11/100\n",
      "51000/51000 [==============================] - 1s 26us/step - loss: 0.1767 - val_loss: 0.1733\n",
      "Epoch 12/100\n",
      "51000/51000 [==============================] - 1s 26us/step - loss: 0.1727 - val_loss: 0.1695\n",
      "Epoch 13/100\n",
      "51000/51000 [==============================] - 1s 25us/step - loss: 0.1690 - val_loss: 0.1659\n",
      "Epoch 14/100\n",
      "51000/51000 [==============================] - 1s 25us/step - loss: 0.1655 - val_loss: 0.1626\n",
      "Epoch 15/100\n",
      "51000/51000 [==============================] - 1s 25us/step - loss: 0.1624 - val_loss: 0.1597\n",
      "Epoch 16/100\n",
      "51000/51000 [==============================] - 1s 26us/step - loss: 0.1595 - val_loss: 0.1569\n",
      "Epoch 17/100\n",
      "51000/51000 [==============================] - 1s 27us/step - loss: 0.1568 - val_loss: 0.1544\n",
      "Epoch 18/100\n",
      "51000/51000 [==============================] - 1s 26us/step - loss: 0.1543 - val_loss: 0.1522\n",
      "Epoch 19/100\n",
      "51000/51000 [==============================] - 1s 25us/step - loss: 0.1519 - val_loss: 0.1498\n",
      "Epoch 20/100\n",
      "51000/51000 [==============================] - 1s 26us/step - loss: 0.1497 - val_loss: 0.1477\n",
      "Epoch 21/100\n",
      "51000/51000 [==============================] - 1s 25us/step - loss: 0.1476 - val_loss: 0.1456\n",
      "Epoch 22/100\n",
      "51000/51000 [==============================] - 1s 26us/step - loss: 0.1456 - val_loss: 0.1438\n",
      "Epoch 23/100\n",
      "51000/51000 [==============================] - 1s 27us/step - loss: 0.1437 - val_loss: 0.1419\n",
      "Epoch 24/100\n",
      "51000/51000 [==============================] - 1s 26us/step - loss: 0.1418 - val_loss: 0.1402\n",
      "Epoch 25/100\n",
      "51000/51000 [==============================] - 1s 26us/step - loss: 0.1401 - val_loss: 0.1385\n",
      "Epoch 26/100\n",
      "51000/51000 [==============================] - 1s 27us/step - loss: 0.1384 - val_loss: 0.1369\n",
      "Epoch 27/100\n",
      "51000/51000 [==============================] - 2s 36us/step - loss: 0.1368 - val_loss: 0.1354\n",
      "Epoch 28/100\n",
      "51000/51000 [==============================] - 1s 26us/step - loss: 0.1352 - val_loss: 0.1340\n",
      "Epoch 29/100\n",
      "51000/51000 [==============================] - 1s 26us/step - loss: 0.1337 - val_loss: 0.1325\n",
      "Epoch 30/100\n",
      "51000/51000 [==============================] - 1s 26us/step - loss: 0.1322 - val_loss: 0.1311\n",
      "Epoch 31/100\n",
      "51000/51000 [==============================] - 1s 28us/step - loss: 0.1308 - val_loss: 0.1297\n",
      "Epoch 32/100\n",
      "51000/51000 [==============================] - 2s 30us/step - loss: 0.1294 - val_loss: 0.1284\n",
      "Epoch 33/100\n",
      "51000/51000 [==============================] - 1s 28us/step - loss: 0.1281 - val_loss: 0.1272\n",
      "Epoch 34/100\n",
      "51000/51000 [==============================] - 1s 27us/step - loss: 0.1269 - val_loss: 0.1261\n",
      "Epoch 35/100\n",
      "51000/51000 [==============================] - 1s 25us/step - loss: 0.1257 - val_loss: 0.1249\n",
      "Epoch 36/100\n",
      "51000/51000 [==============================] - 1s 26us/step - loss: 0.1246 - val_loss: 0.1239\n",
      "Epoch 37/100\n",
      "51000/51000 [==============================] - 1s 27us/step - loss: 0.1235 - val_loss: 0.1229\n",
      "Epoch 38/100\n",
      "51000/51000 [==============================] - 1s 25us/step - loss: 0.1225 - val_loss: 0.1219\n",
      "Epoch 39/100\n",
      "51000/51000 [==============================] - 1s 25us/step - loss: 0.1216 - val_loss: 0.1211\n",
      "Epoch 40/100\n",
      "51000/51000 [==============================] - 1s 24us/step - loss: 0.1207 - val_loss: 0.1203\n",
      "Epoch 41/100\n",
      "51000/51000 [==============================] - 1s 26us/step - loss: 0.1199 - val_loss: 0.1195\n",
      "Epoch 42/100\n",
      "51000/51000 [==============================] - 1s 27us/step - loss: 0.1191 - val_loss: 0.1187\n",
      "Epoch 43/100\n",
      "51000/51000 [==============================] - 1s 26us/step - loss: 0.1184 - val_loss: 0.1181\n",
      "Epoch 44/100\n",
      "51000/51000 [==============================] - 1s 25us/step - loss: 0.1177 - val_loss: 0.1174\n",
      "Epoch 45/100\n",
      "51000/51000 [==============================] - 1s 25us/step - loss: 0.1171 - val_loss: 0.1168\n",
      "Epoch 46/100\n",
      "51000/51000 [==============================] - 1s 25us/step - loss: 0.1165 - val_loss: 0.1162\n",
      "Epoch 47/100\n",
      "51000/51000 [==============================] - 1s 25us/step - loss: 0.1159 - val_loss: 0.1157\n",
      "Epoch 48/100\n",
      "51000/51000 [==============================] - 1s 26us/step - loss: 0.1154 - val_loss: 0.1152\n",
      "Epoch 49/100\n",
      "51000/51000 [==============================] - 1s 26us/step - loss: 0.1149 - val_loss: 0.1147\n",
      "Epoch 50/100\n",
      "51000/51000 [==============================] - 1s 25us/step - loss: 0.1144 - val_loss: 0.1143\n",
      "Epoch 51/100\n",
      "51000/51000 [==============================] - 1s 24us/step - loss: 0.1139 - val_loss: 0.1138\n",
      "Epoch 52/100\n",
      "51000/51000 [==============================] - 1s 24us/step - loss: 0.1135 - val_loss: 0.1134\n",
      "Epoch 53/100\n",
      "51000/51000 [==============================] - 1s 25us/step - loss: 0.1131 - val_loss: 0.1130\n",
      "Epoch 54/100\n",
      "51000/51000 [==============================] - 1s 25us/step - loss: 0.1127 - val_loss: 0.1127\n",
      "Epoch 55/100\n",
      "51000/51000 [==============================] - 2s 30us/step - loss: 0.1124 - val_loss: 0.1123\n",
      "Epoch 56/100\n",
      "51000/51000 [==============================] - 1s 26us/step - loss: 0.1121 - val_loss: 0.1120\n",
      "Epoch 57/100\n",
      "51000/51000 [==============================] - 1s 25us/step - loss: 0.1117 - val_loss: 0.1117\n",
      "Epoch 58/100\n",
      "51000/51000 [==============================] - 1s 25us/step - loss: 0.1115 - val_loss: 0.1114\n",
      "Epoch 59/100\n",
      "51000/51000 [==============================] - 1s 24us/step - loss: 0.1112 - val_loss: 0.1112\n",
      "Epoch 60/100\n",
      "51000/51000 [==============================] - 1s 24us/step - loss: 0.1109 - val_loss: 0.1109\n",
      "Epoch 61/100\n",
      "51000/51000 [==============================] - 1s 25us/step - loss: 0.1107 - val_loss: 0.1107\n",
      "Epoch 62/100\n",
      "51000/51000 [==============================] - 1s 26us/step - loss: 0.1104 - val_loss: 0.1104\n",
      "Epoch 63/100\n",
      "51000/51000 [==============================] - 1s 25us/step - loss: 0.1102 - val_loss: 0.1102\n",
      "Epoch 64/100\n",
      "51000/51000 [==============================] - 1s 25us/step - loss: 0.1100 - val_loss: 0.1100\n",
      "Epoch 65/100\n",
      "51000/51000 [==============================] - 1s 25us/step - loss: 0.1098 - val_loss: 0.1098\n",
      "Epoch 66/100\n",
      "51000/51000 [==============================] - 1s 25us/step - loss: 0.1096 - val_loss: 0.1096\n",
      "Epoch 67/100\n",
      "51000/51000 [==============================] - 1s 27us/step - loss: 0.1094 - val_loss: 0.1094\n",
      "Epoch 68/100\n",
      "51000/51000 [==============================] - 1s 27us/step - loss: 0.1092 - val_loss: 0.1093\n",
      "Epoch 69/100\n",
      "51000/51000 [==============================] - 1s 27us/step - loss: 0.1091 - val_loss: 0.1091\n",
      "Epoch 70/100\n",
      "51000/51000 [==============================] - 1s 25us/step - loss: 0.1089 - val_loss: 0.1090\n",
      "Epoch 71/100\n",
      "51000/51000 [==============================] - 1s 26us/step - loss: 0.1087 - val_loss: 0.1088\n",
      "Epoch 72/100\n",
      "51000/51000 [==============================] - 1s 25us/step - loss: 0.1086 - val_loss: 0.1087\n",
      "Epoch 73/100\n",
      "51000/51000 [==============================] - 1s 25us/step - loss: 0.1084 - val_loss: 0.1085\n",
      "Epoch 74/100\n",
      "51000/51000 [==============================] - 1s 24us/step - loss: 0.1083 - val_loss: 0.1084\n",
      "Epoch 75/100\n",
      "51000/51000 [==============================] - 1s 24us/step - loss: 0.1082 - val_loss: 0.1082\n",
      "Epoch 76/100\n",
      "51000/51000 [==============================] - 1s 23us/step - loss: 0.1080 - val_loss: 0.1081\n",
      "Epoch 77/100\n"
     ]
    },
    {
     "name": "stdout",
     "output_type": "stream",
     "text": [
      "51000/51000 [==============================] - 1s 23us/step - loss: 0.1079 - val_loss: 0.1080\n",
      "Epoch 78/100\n",
      "51000/51000 [==============================] - 1s 23us/step - loss: 0.1078 - val_loss: 0.1079\n",
      "Epoch 79/100\n",
      "51000/51000 [==============================] - 1s 23us/step - loss: 0.1076 - val_loss: 0.1077\n",
      "Epoch 80/100\n",
      "51000/51000 [==============================] - 1s 24us/step - loss: 0.1075 - val_loss: 0.1076\n",
      "Epoch 81/100\n",
      "51000/51000 [==============================] - 1s 28us/step - loss: 0.1074 - val_loss: 0.1075\n",
      "Epoch 82/100\n",
      "51000/51000 [==============================] - 1s 26us/step - loss: 0.1073 - val_loss: 0.1074\n",
      "Epoch 83/100\n",
      "51000/51000 [==============================] - 2s 30us/step - loss: 0.1071 - val_loss: 0.1073\n",
      "Epoch 84/100\n",
      "51000/51000 [==============================] - 1s 25us/step - loss: 0.1070 - val_loss: 0.1071\n",
      "Epoch 85/100\n",
      "51000/51000 [==============================] - 1s 25us/step - loss: 0.1069 - val_loss: 0.1070\n",
      "Epoch 86/100\n",
      "51000/51000 [==============================] - 1s 25us/step - loss: 0.1068 - val_loss: 0.1069\n",
      "Epoch 87/100\n",
      "51000/51000 [==============================] - 1s 24us/step - loss: 0.1066 - val_loss: 0.1068\n",
      "Epoch 88/100\n",
      "51000/51000 [==============================] - 1s 23us/step - loss: 0.1065 - val_loss: 0.1067\n",
      "Epoch 89/100\n",
      "51000/51000 [==============================] - 1s 24us/step - loss: 0.1064 - val_loss: 0.1066\n",
      "Epoch 90/100\n",
      "51000/51000 [==============================] - 1s 23us/step - loss: 0.1063 - val_loss: 0.1064\n",
      "Epoch 91/100\n",
      "51000/51000 [==============================] - 1s 23us/step - loss: 0.1062 - val_loss: 0.1063\n",
      "Epoch 92/100\n",
      "51000/51000 [==============================] - 1s 23us/step - loss: 0.1060 - val_loss: 0.1062\n",
      "Epoch 93/100\n",
      "51000/51000 [==============================] - 1s 23us/step - loss: 0.1059 - val_loss: 0.1061\n",
      "Epoch 94/100\n",
      "51000/51000 [==============================] - 1s 23us/step - loss: 0.1058 - val_loss: 0.1060\n",
      "Epoch 95/100\n",
      "51000/51000 [==============================] - 1s 23us/step - loss: 0.1057 - val_loss: 0.1058\n",
      "Epoch 96/100\n",
      "51000/51000 [==============================] - 1s 23us/step - loss: 0.1055 - val_loss: 0.1057\n",
      "Epoch 97/100\n",
      "51000/51000 [==============================] - 1s 23us/step - loss: 0.1054 - val_loss: 0.1056\n",
      "Epoch 98/100\n",
      "51000/51000 [==============================] - 1s 25us/step - loss: 0.1053 - val_loss: 0.1055\n",
      "Epoch 99/100\n",
      "51000/51000 [==============================] - 1s 24us/step - loss: 0.1052 - val_loss: 0.1054\n",
      "Epoch 100/100\n",
      "51000/51000 [==============================] - 1s 24us/step - loss: 0.1051 - val_loss: 0.1053\n"
     ]
    },
    {
     "data": {
      "text/plain": [
       "<keras.callbacks.callbacks.History at 0x15d0a3b38>"
      ]
     },
     "execution_count": 82,
     "metadata": {},
     "output_type": "execute_result"
    }
   ],
   "source": [
    "autoencoder.fit(x_train, x_train,\n",
    "               epochs=100, \n",
    "               batch_size = 256,\n",
    "               shuffle=True,\n",
    "               validation_split=.15)"
   ]
  },
  {
   "cell_type": "code",
   "execution_count": 83,
   "metadata": {},
   "outputs": [
    {
     "data": {
      "image/png": "[encoded data removed]",
      "text/plain": [
       "<Figure size 432x288 with 1 Axes>"
      ]
     },
     "metadata": {
      "needs_background": "light"
     },
     "output_type": "display_data"
    },
    {
     "data": {
      "image/png": "[encoded data removed]",
      "text/plain": [
       "<Figure size 1440x288 with 20 Axes>"
      ]
     },
     "metadata": {
      "needs_background": "light"
     },
     "output_type": "display_data"
    }
   ],
   "source": [
    "train_loss = autoencoder.history.history['loss']\n",
    "val_loss = autoencoder.history.history['val_loss']\n",
    "plt.scatter(autoencoder.history.epoch[20:],train_loss[20:],c='r')\n",
    "plt.scatter(autoencoder.history.epoch[20:],val_loss[20:])\n",
    "######\n",
    "encoded_imgs = encoder.predict(x_test)\n",
    "decoded_imgs = decoder.predict(encoded_imgs)\n",
    "n = 10\n",
    "plt.figure(figsize=(20 ,4))\n",
    "for i in range(n):\n",
    "    ax = plt.subplot(2, n, i + 1)\n",
    "    plt.imshow(x_test[i].reshape(28, 28))\n",
    "    plt.gray()\n",
    "    ax.get_xaxis().set_visible(False)\n",
    "    ax.get_yaxis().set_visible(False)\n",
    "\n",
    "    # display reconstruction\n",
    "    ax = plt.subplot(2, n, i + 1 + n)\n",
    "    plt.imshow(decoded_imgs[i].reshape(28, 28))\n",
    "    plt.gray()\n",
    "    ax.get_xaxis().set_visible(False)\n",
    "    ax.get_yaxis().set_visible(False)\n",
    "plt.show()"
   ]
  },
  {
   "cell_type": "code",
   "execution_count": 87,
   "metadata": {},
   "outputs": [
    {
     "data": {
      "text/plain": [
       "0.13337705"
      ]
     },
     "execution_count": 87,
     "metadata": {},
     "output_type": "execute_result"
    }
   ],
   "source": [
    "decoded_imgs.mean()"
   ]
  },
  {
   "cell_type": "markdown",
   "metadata": {},
   "source": [
    "## Deep autoencoder"
   ]
  },
  {
   "cell_type": "code",
   "execution_count": 93,
   "metadata": {},
   "outputs": [],
   "source": [
    "input_img = Input(shape=(784,))\n",
    "encoded = Dense(128, activation='relu')(input_img)\n",
    "encoded = Dense(64, activation='relu')(encoded)\n",
    "encoded = Dense(32, activation='relu')(encoded)\n",
    "\n",
    "#this model maps an input to its encoded rep\n",
    "encoder = Model(input_img, encoded)\n",
    "\n",
    "decoded = Dense(64, activation='relu')(encoded)\n",
    "decoded = Dense(128, activation='relu')(decoded)\n",
    "decoded = Dense(784, activation='sigmoid')(decoded)\n",
    "\n",
    "\n",
    "\n"
   ]
  },
  {
   "cell_type": "code",
   "execution_count": 95,
   "metadata": {},
   "outputs": [
    {
     "name": "stdout",
     "output_type": "stream",
     "text": [
      "Train on 51000 samples, validate on 9000 samples\n",
      "Epoch 1/150\n",
      "51000/51000 [==============================] - 3s 53us/step - loss: 0.2498 - val_loss: 0.2409\n",
      "Epoch 2/150\n",
      "51000/51000 [==============================] - 2s 43us/step - loss: 0.2301 - val_loss: 0.2216\n",
      "Epoch 3/150\n",
      "51000/51000 [==============================] - 2s 39us/step - loss: 0.2163 - val_loss: 0.2113\n",
      "Epoch 4/150\n",
      "51000/51000 [==============================] - 2s 37us/step - loss: 0.2063 - val_loss: 0.2002\n",
      "Epoch 5/150\n",
      "51000/51000 [==============================] - 2s 40us/step - loss: 0.1971 - val_loss: 0.1945\n",
      "Epoch 6/150\n",
      "51000/51000 [==============================] - 3s 67us/step - loss: 0.1890 - val_loss: 0.1843\n",
      "Epoch 7/150\n",
      "51000/51000 [==============================] - 3s 59us/step - loss: 0.1811 - val_loss: 0.1776\n",
      "Epoch 8/150\n",
      "51000/51000 [==============================] - 2s 49us/step - loss: 0.1749 - val_loss: 0.1726\n",
      "Epoch 9/150\n",
      "51000/51000 [==============================] - 2s 49us/step - loss: 0.1705 - val_loss: 0.1673\n",
      "Epoch 10/150\n",
      "51000/51000 [==============================] - 2s 45us/step - loss: 0.1661 - val_loss: 0.1649\n",
      "Epoch 11/150\n",
      "51000/51000 [==============================] - 2s 36us/step - loss: 0.1619 - val_loss: 0.1598\n",
      "Epoch 12/150\n",
      "51000/51000 [==============================] - 2s 36us/step - loss: 0.1580 - val_loss: 0.1580\n",
      "Epoch 13/150\n",
      "51000/51000 [==============================] - 2s 36us/step - loss: 0.1553 - val_loss: 0.1555\n",
      "Epoch 14/150\n",
      "51000/51000 [==============================] - 2s 36us/step - loss: 0.1524 - val_loss: 0.1507\n",
      "Epoch 15/150\n",
      "51000/51000 [==============================] - 2s 37us/step - loss: 0.1501 - val_loss: 0.1496\n",
      "Epoch 16/150\n",
      "51000/51000 [==============================] - 2s 36us/step - loss: 0.1476 - val_loss: 0.1470\n",
      "Epoch 17/150\n",
      "51000/51000 [==============================] - 2s 36us/step - loss: 0.1451 - val_loss: 0.1445\n",
      "Epoch 18/150\n",
      "51000/51000 [==============================] - 2s 35us/step - loss: 0.1428 - val_loss: 0.1431\n",
      "Epoch 19/150\n",
      "51000/51000 [==============================] - 2s 35us/step - loss: 0.1409 - val_loss: 0.1401\n",
      "Epoch 20/150\n",
      "51000/51000 [==============================] - 2s 37us/step - loss: 0.1392 - val_loss: 0.1391\n",
      "Epoch 21/150\n",
      "51000/51000 [==============================] - 2s 36us/step - loss: 0.1379 - val_loss: 0.1379\n",
      "Epoch 22/150\n",
      "51000/51000 [==============================] - 2s 36us/step - loss: 0.1366 - val_loss: 0.1349\n",
      "Epoch 23/150\n",
      "51000/51000 [==============================] - 2s 42us/step - loss: 0.1355 - val_loss: 0.1349\n",
      "Epoch 24/150\n",
      "51000/51000 [==============================] - 2s 38us/step - loss: 0.1343 - val_loss: 0.1350\n",
      "Epoch 25/150\n",
      "51000/51000 [==============================] - 2s 36us/step - loss: 0.1332 - val_loss: 0.1339\n",
      "Epoch 26/150\n",
      "51000/51000 [==============================] - 2s 46us/step - loss: 0.1322 - val_loss: 0.1335\n",
      "Epoch 27/150\n",
      "51000/51000 [==============================] - 2s 36us/step - loss: 0.1311 - val_loss: 0.1309\n",
      "Epoch 28/150\n",
      "51000/51000 [==============================] - 2s 36us/step - loss: 0.1298 - val_loss: 0.1291\n",
      "Epoch 29/150\n",
      "51000/51000 [==============================] - 2s 37us/step - loss: 0.1287 - val_loss: 0.1291\n",
      "Epoch 30/150\n",
      "51000/51000 [==============================] - 2s 38us/step - loss: 0.1276 - val_loss: 0.1267\n",
      "Epoch 31/150\n",
      "51000/51000 [==============================] - 2s 38us/step - loss: 0.1265 - val_loss: 0.1260\n",
      "Epoch 32/150\n",
      "51000/51000 [==============================] - 2s 37us/step - loss: 0.1256 - val_loss: 0.1259\n",
      "Epoch 33/150\n",
      "51000/51000 [==============================] - 2s 37us/step - loss: 0.1249 - val_loss: 0.1238\n",
      "Epoch 34/150\n",
      "51000/51000 [==============================] - 2s 37us/step - loss: 0.1239 - val_loss: 0.1240\n",
      "Epoch 35/150\n",
      "51000/51000 [==============================] - 2s 36us/step - loss: 0.1231 - val_loss: 0.1228\n",
      "Epoch 36/150\n",
      "51000/51000 [==============================] - 2s 37us/step - loss: 0.1224 - val_loss: 0.1222\n",
      "Epoch 37/150\n",
      "51000/51000 [==============================] - 2s 37us/step - loss: 0.1218 - val_loss: 0.1219\n",
      "Epoch 38/150\n",
      "51000/51000 [==============================] - 2s 37us/step - loss: 0.1210 - val_loss: 0.1218\n",
      "Epoch 39/150\n",
      "51000/51000 [==============================] - 2s 36us/step - loss: 0.1204 - val_loss: 0.1202\n",
      "Epoch 40/150\n",
      "51000/51000 [==============================] - 2s 37us/step - loss: 0.1199 - val_loss: 0.1197\n",
      "Epoch 41/150\n",
      "51000/51000 [==============================] - 2s 37us/step - loss: 0.1193 - val_loss: 0.1198\n",
      "Epoch 42/150\n",
      "51000/51000 [==============================] - 2s 37us/step - loss: 0.1188 - val_loss: 0.1178\n",
      "Epoch 43/150\n",
      "51000/51000 [==============================] - 2s 37us/step - loss: 0.1181 - val_loss: 0.1189\n",
      "Epoch 44/150\n",
      "51000/51000 [==============================] - 2s 37us/step - loss: 0.1176 - val_loss: 0.1184\n",
      "Epoch 45/150\n",
      "51000/51000 [==============================] - 2s 37us/step - loss: 0.1171 - val_loss: 0.1164\n",
      "Epoch 46/150\n",
      "51000/51000 [==============================] - 2s 43us/step - loss: 0.1167 - val_loss: 0.1168\n",
      "Epoch 47/150\n",
      "51000/51000 [==============================] - 2s 39us/step - loss: 0.1163 - val_loss: 0.1170\n",
      "Epoch 48/150\n",
      "51000/51000 [==============================] - 2s 37us/step - loss: 0.1158 - val_loss: 0.1166\n",
      "Epoch 49/150\n",
      "51000/51000 [==============================] - 2s 37us/step - loss: 0.1153 - val_loss: 0.1209\n",
      "Epoch 50/150\n",
      "51000/51000 [==============================] - 2s 38us/step - loss: 0.1148 - val_loss: 0.1188\n",
      "Epoch 51/150\n",
      "51000/51000 [==============================] - 2s 36us/step - loss: 0.1144 - val_loss: 0.1162\n",
      "Epoch 52/150\n",
      "51000/51000 [==============================] - 2s 38us/step - loss: 0.1141 - val_loss: 0.1145\n",
      "Epoch 53/150\n",
      "51000/51000 [==============================] - 2s 36us/step - loss: 0.1137 - val_loss: 0.1135\n",
      "Epoch 54/150\n",
      "51000/51000 [==============================] - 2s 47us/step - loss: 0.1133 - val_loss: 0.1129\n",
      "Epoch 55/150\n",
      "51000/51000 [==============================] - 2s 37us/step - loss: 0.1129 - val_loss: 0.1141\n",
      "Epoch 56/150\n",
      "51000/51000 [==============================] - 2s 37us/step - loss: 0.1126 - val_loss: 0.1119\n",
      "Epoch 57/150\n",
      "51000/51000 [==============================] - 2s 36us/step - loss: 0.1123 - val_loss: 0.1123\n",
      "Epoch 58/150\n",
      "51000/51000 [==============================] - 2s 37us/step - loss: 0.1121 - val_loss: 0.1117\n",
      "Epoch 59/150\n",
      "51000/51000 [==============================] - 2s 40us/step - loss: 0.1116 - val_loss: 0.1141\n",
      "Epoch 60/150\n",
      "51000/51000 [==============================] - 2s 37us/step - loss: 0.1114 - val_loss: 0.1120\n",
      "Epoch 61/150\n",
      "51000/51000 [==============================] - 2s 37us/step - loss: 0.1110 - val_loss: 0.1135\n",
      "Epoch 62/150\n",
      "51000/51000 [==============================] - 2s 41us/step - loss: 0.1107 - val_loss: 0.1114\n",
      "Epoch 63/150\n",
      "51000/51000 [==============================] - 2s 37us/step - loss: 0.1104 - val_loss: 0.1101\n",
      "Epoch 64/150\n",
      "51000/51000 [==============================] - 2s 37us/step - loss: 0.1102 - val_loss: 0.1096\n",
      "Epoch 65/150\n",
      "51000/51000 [==============================] - 2s 36us/step - loss: 0.1099 - val_loss: 0.1086\n",
      "Epoch 66/150\n",
      "51000/51000 [==============================] - 2s 40us/step - loss: 0.1095 - val_loss: 0.1103\n",
      "Epoch 67/150\n",
      "51000/51000 [==============================] - 2s 38us/step - loss: 0.1093 - val_loss: 0.1102\n",
      "Epoch 68/150\n",
      "51000/51000 [==============================] - 2s 39us/step - loss: 0.1090 - val_loss: 0.1097\n",
      "Epoch 69/150\n",
      "51000/51000 [==============================] - 2s 37us/step - loss: 0.1088 - val_loss: 0.1103\n",
      "Epoch 70/150\n",
      "51000/51000 [==============================] - 2s 37us/step - loss: 0.1084 - val_loss: 0.1089\n",
      "Epoch 71/150\n",
      "51000/51000 [==============================] - 2s 40us/step - loss: 0.1082 - val_loss: 0.1076\n",
      "Epoch 72/150\n",
      "51000/51000 [==============================] - 2s 37us/step - loss: 0.1080 - val_loss: 0.1078\n",
      "Epoch 73/150\n",
      "51000/51000 [==============================] - 2s 38us/step - loss: 0.1077 - val_loss: 0.1079\n",
      "Epoch 74/150\n",
      "51000/51000 [==============================] - 2s 36us/step - loss: 0.1075 - val_loss: 0.1083\n",
      "Epoch 75/150\n",
      "51000/51000 [==============================] - 2s 37us/step - loss: 0.1072 - val_loss: 0.1082\n",
      "Epoch 76/150\n",
      "51000/51000 [==============================] - 2s 38us/step - loss: 0.1070 - val_loss: 0.1078\n",
      "Epoch 77/150\n"
     ]
    },
    {
     "name": "stdout",
     "output_type": "stream",
     "text": [
      "51000/51000 [==============================] - 2s 35us/step - loss: 0.1068 - val_loss: 0.1074\n",
      "Epoch 78/150\n",
      "51000/51000 [==============================] - 2s 35us/step - loss: 0.1066 - val_loss: 0.1065\n",
      "Epoch 79/150\n",
      "51000/51000 [==============================] - 2s 35us/step - loss: 0.1063 - val_loss: 0.1076\n",
      "Epoch 80/150\n",
      "51000/51000 [==============================] - 2s 35us/step - loss: 0.1061 - val_loss: 0.1064\n",
      "Epoch 81/150\n",
      "51000/51000 [==============================] - 2s 36us/step - loss: 0.1059 - val_loss: 0.1065\n",
      "Epoch 82/150\n",
      "51000/51000 [==============================] - 2s 37us/step - loss: 0.1056 - val_loss: 0.1067\n",
      "Epoch 83/150\n",
      "51000/51000 [==============================] - 2s 36us/step - loss: 0.1055 - val_loss: 0.1061\n",
      "Epoch 84/150\n",
      "51000/51000 [==============================] - 2s 36us/step - loss: 0.1052 - val_loss: 0.1061\n",
      "Epoch 85/150\n",
      "51000/51000 [==============================] - 2s 36us/step - loss: 0.1051 - val_loss: 0.1066\n",
      "Epoch 86/150\n",
      "51000/51000 [==============================] - 2s 38us/step - loss: 0.1049 - val_loss: 0.1042\n",
      "Epoch 87/150\n",
      "51000/51000 [==============================] - 2s 37us/step - loss: 0.1044 - val_loss: 0.1060\n",
      "Epoch 88/150\n",
      "51000/51000 [==============================] - 2s 36us/step - loss: 0.1043 - val_loss: 0.1060\n",
      "Epoch 89/150\n",
      "51000/51000 [==============================] - 2s 39us/step - loss: 0.1042 - val_loss: 0.1059\n",
      "Epoch 90/150\n",
      "51000/51000 [==============================] - 2s 35us/step - loss: 0.1039 - val_loss: 0.1052\n",
      "Epoch 91/150\n",
      "51000/51000 [==============================] - 2s 36us/step - loss: 0.1037 - val_loss: 0.1041\n",
      "Epoch 92/150\n",
      "51000/51000 [==============================] - 2s 38us/step - loss: 0.1034 - val_loss: 0.1069\n",
      "Epoch 93/150\n",
      "51000/51000 [==============================] - 2s 36us/step - loss: 0.1031 - val_loss: 0.1050\n",
      "Epoch 94/150\n",
      "51000/51000 [==============================] - 2s 36us/step - loss: 0.1030 - val_loss: 0.1055\n",
      "Epoch 95/150\n",
      "51000/51000 [==============================] - 2s 36us/step - loss: 0.1027 - val_loss: 0.1035\n",
      "Epoch 96/150\n",
      "51000/51000 [==============================] - 2s 38us/step - loss: 0.1026 - val_loss: 0.1043\n",
      "Epoch 97/150\n",
      "51000/51000 [==============================] - 2s 35us/step - loss: 0.1024 - val_loss: 0.1026\n",
      "Epoch 98/150\n",
      "51000/51000 [==============================] - 2s 35us/step - loss: 0.1022 - val_loss: 0.1021\n",
      "Epoch 99/150\n",
      "51000/51000 [==============================] - 2s 35us/step - loss: 0.1020 - val_loss: 0.1022\n",
      "Epoch 100/150\n",
      "51000/51000 [==============================] - 2s 37us/step - loss: 0.1018 - val_loss: 0.1037\n",
      "Epoch 101/150\n",
      "51000/51000 [==============================] - 2s 36us/step - loss: 0.1017 - val_loss: 0.1025\n",
      "Epoch 102/150\n",
      "51000/51000 [==============================] - 2s 35us/step - loss: 0.1014 - val_loss: 0.1019\n",
      "Epoch 103/150\n",
      "51000/51000 [==============================] - 2s 38us/step - loss: 0.1013 - val_loss: 0.1015\n",
      "Epoch 104/150\n",
      "51000/51000 [==============================] - 2s 37us/step - loss: 0.1012 - val_loss: 0.1010\n",
      "Epoch 105/150\n",
      "51000/51000 [==============================] - 2s 38us/step - loss: 0.1010 - val_loss: 0.1008\n",
      "Epoch 106/150\n",
      "51000/51000 [==============================] - 2s 34us/step - loss: 0.1009 - val_loss: 0.1011\n",
      "Epoch 107/150\n",
      "51000/51000 [==============================] - 2s 35us/step - loss: 0.1005 - val_loss: 0.1007\n",
      "Epoch 108/150\n",
      "51000/51000 [==============================] - 2s 35us/step - loss: 0.1004 - val_loss: 0.1021\n",
      "Epoch 109/150\n",
      "51000/51000 [==============================] - 2s 37us/step - loss: 0.1003 - val_loss: 0.1020\n",
      "Epoch 110/150\n",
      "51000/51000 [==============================] - 2s 38us/step - loss: 0.1003 - val_loss: 0.0999\n",
      "Epoch 111/150\n",
      "51000/51000 [==============================] - 2s 35us/step - loss: 0.1001 - val_loss: 0.1027\n",
      "Epoch 112/150\n",
      "51000/51000 [==============================] - 2s 34us/step - loss: 0.0999 - val_loss: 0.1006\n",
      "Epoch 113/150\n",
      "51000/51000 [==============================] - 2s 38us/step - loss: 0.0998 - val_loss: 0.1008\n",
      "Epoch 114/150\n",
      "51000/51000 [==============================] - 2s 35us/step - loss: 0.0997 - val_loss: 0.1009\n",
      "Epoch 115/150\n",
      "51000/51000 [==============================] - 2s 35us/step - loss: 0.0996 - val_loss: 0.0997\n",
      "Epoch 116/150\n",
      "51000/51000 [==============================] - 2s 36us/step - loss: 0.0993 - val_loss: 0.1020\n",
      "Epoch 117/150\n",
      "51000/51000 [==============================] - 2s 35us/step - loss: 0.0993 - val_loss: 0.1012\n",
      "Epoch 118/150\n",
      "51000/51000 [==============================] - 2s 37us/step - loss: 0.0992 - val_loss: 0.1014\n",
      "Epoch 119/150\n",
      "51000/51000 [==============================] - 2s 34us/step - loss: 0.0991 - val_loss: 0.1002\n",
      "Epoch 120/150\n",
      "51000/51000 [==============================] - 2s 35us/step - loss: 0.0990 - val_loss: 0.1013\n",
      "Epoch 121/150\n",
      "51000/51000 [==============================] - 2s 35us/step - loss: 0.0988 - val_loss: 0.1006\n",
      "Epoch 122/150\n",
      "51000/51000 [==============================] - 2s 38us/step - loss: 0.0985 - val_loss: 0.0985\n",
      "Epoch 123/150\n",
      "51000/51000 [==============================] - 2s 35us/step - loss: 0.0986 - val_loss: 0.1000\n",
      "Epoch 124/150\n",
      "51000/51000 [==============================] - 2s 36us/step - loss: 0.0984 - val_loss: 0.0991\n",
      "Epoch 125/150\n",
      "51000/51000 [==============================] - 2s 37us/step - loss: 0.0983 - val_loss: 0.0992\n",
      "Epoch 126/150\n",
      "51000/51000 [==============================] - 2s 36us/step - loss: 0.0981 - val_loss: 0.1007\n",
      "Epoch 127/150\n",
      "51000/51000 [==============================] - 2s 35us/step - loss: 0.0982 - val_loss: 0.0994\n",
      "Epoch 128/150\n",
      "51000/51000 [==============================] - 2s 34us/step - loss: 0.0981 - val_loss: 0.0991\n",
      "Epoch 129/150\n",
      "51000/51000 [==============================] - 2s 33us/step - loss: 0.0981 - val_loss: 0.0981\n",
      "Epoch 130/150\n",
      "51000/51000 [==============================] - 2s 34us/step - loss: 0.0979 - val_loss: 0.1006\n",
      "Epoch 131/150\n",
      "51000/51000 [==============================] - 2s 35us/step - loss: 0.0978 - val_loss: 0.0998\n",
      "Epoch 132/150\n",
      "51000/51000 [==============================] - 2s 36us/step - loss: 0.0976 - val_loss: 0.1004\n",
      "Epoch 133/150\n",
      "51000/51000 [==============================] - 2s 37us/step - loss: 0.0975 - val_loss: 0.1005\n",
      "Epoch 134/150\n",
      "51000/51000 [==============================] - 2s 34us/step - loss: 0.0976 - val_loss: 0.0974\n",
      "Epoch 135/150\n",
      "51000/51000 [==============================] - 2s 34us/step - loss: 0.0974 - val_loss: 0.0986\n",
      "Epoch 136/150\n",
      "51000/51000 [==============================] - 2s 35us/step - loss: 0.0974 - val_loss: 0.0977\n",
      "Epoch 137/150\n",
      "51000/51000 [==============================] - 2s 34us/step - loss: 0.0972 - val_loss: 0.0982\n",
      "Epoch 138/150\n",
      "51000/51000 [==============================] - 2s 37us/step - loss: 0.0972 - val_loss: 0.0968\n",
      "Epoch 139/150\n",
      "51000/51000 [==============================] - 2s 37us/step - loss: 0.0970 - val_loss: 0.0986\n",
      "Epoch 140/150\n",
      "51000/51000 [==============================] - 2s 36us/step - loss: 0.0970 - val_loss: 0.0975\n",
      "Epoch 141/150\n",
      "51000/51000 [==============================] - 2s 36us/step - loss: 0.0969 - val_loss: 0.0980\n",
      "Epoch 142/150\n",
      "51000/51000 [==============================] - 2s 35us/step - loss: 0.0967 - val_loss: 0.0985\n",
      "Epoch 143/150\n",
      "51000/51000 [==============================] - 2s 35us/step - loss: 0.0967 - val_loss: 0.0965\n",
      "Epoch 144/150\n",
      "51000/51000 [==============================] - 2s 36us/step - loss: 0.0966 - val_loss: 0.0979\n",
      "Epoch 145/150\n",
      "51000/51000 [==============================] - 2s 36us/step - loss: 0.0966 - val_loss: 0.0982\n",
      "Epoch 146/150\n",
      "51000/51000 [==============================] - 2s 36us/step - loss: 0.0964 - val_loss: 0.0965\n",
      "Epoch 147/150\n",
      "51000/51000 [==============================] - 2s 36us/step - loss: 0.0964 - val_loss: 0.0975\n",
      "Epoch 148/150\n",
      "51000/51000 [==============================] - 2s 35us/step - loss: 0.0962 - val_loss: 0.0988\n",
      "Epoch 149/150\n",
      "51000/51000 [==============================] - 2s 36us/step - loss: 0.0962 - val_loss: 0.0983\n",
      "Epoch 150/150\n",
      "51000/51000 [==============================] - 2s 43us/step - loss: 0.0962 - val_loss: 0.0980\n"
     ]
    },
    {
     "data": {
      "text/plain": [
       "<keras.callbacks.callbacks.History at 0x1630291d0>"
      ]
     },
     "execution_count": 95,
     "metadata": {},
     "output_type": "execute_result"
    }
   ],
   "source": [
    "autoencoder = Model(input_img, decoded)\n",
    "\n",
    "\n",
    "# thisis the size of our encoded representations\n",
    "encoding_dim = 32 \n",
    "# create a placehoder for an encoded (32-dim) input\n",
    "encoded_input = Input(shape=(encoding_dim,))\n",
    "\n",
    "# retrive the last of the autencoder model\n",
    "decoder_layer_1 = autoencoder.layers[-3]\n",
    "decoder_layer_2 = autoencoder.layers[-2]\n",
    "decoder_layer_3 = autoencoder.layers[-1]\n",
    "all_layer = autoencoder.layers\n",
    "\n",
    "#create the decoder model\n",
    "decoder = Model(encoded_input, decoder_layer_3(decoder_layer_2(decoder_layer_1(encoded_input))))\n",
    "\n",
    "\n",
    "autoencoder.compile(optimizer='adadelta', loss='binary_crossentropy')\n",
    "\n",
    "autoencoder.fit(x_train, x_train,\n",
    "               epochs=150,\n",
    "               batch_size=256,\n",
    "               shuffle=True,\n",
    "               validation_split=.15)"
   ]
  },
  {
   "cell_type": "code",
   "execution_count": 96,
   "metadata": {},
   "outputs": [
    {
     "data": {
      "image/png": "[encoded data removed]",
      "text/plain": [
       "<Figure size 432x288 with 1 Axes>"
      ]
     },
     "metadata": {
      "needs_background": "light"
     },
     "output_type": "display_data"
    },
    {
     "data": {
      "image/png": "[encoded data removed]",
      "text/plain": [
       "<Figure size 1440x288 with 20 Axes>"
      ]
     },
     "metadata": {
      "needs_background": "light"
     },
     "output_type": "display_data"
    }
   ],
   "source": [
    "train_loss = autoencoder.history.history['loss']\n",
    "val_loss = autoencoder.history.history['val_loss']\n",
    "plt.scatter(autoencoder.history.epoch[20:],train_loss[20:],c='r')\n",
    "plt.scatter(autoencoder.history.epoch[20:],val_loss[20:])\n",
    "######\n",
    "encoded_imgs = encoder.predict(x_test)\n",
    "decoded_imgs = decoder.predict(encoded_imgs)\n",
    "n = 10\n",
    "plt.figure(figsize=(20 ,4))\n",
    "for i in range(n):\n",
    "    ax = plt.subplot(2, n, i + 1)\n",
    "    plt.imshow(x_test[i].reshape(28, 28))\n",
    "    plt.gray()\n",
    "    ax.get_xaxis().set_visible(False)\n",
    "    ax.get_yaxis().set_visible(False)\n",
    "\n",
    "    # display reconstruction\n",
    "    ax = plt.subplot(2, n, i + 1 + n)\n",
    "    plt.imshow(decoded_imgs[i].reshape(28, 28))\n",
    "    plt.gray()\n",
    "    ax.get_xaxis().set_visible(False)\n",
    "    ax.get_yaxis().set_visible(False)\n",
    "plt.show()"
   ]
  },
  {
   "cell_type": "markdown",
   "metadata": {},
   "source": [
    "## Convolutional Auto encoder\n",
    "\n",
    "Since our inputs are images, it makes sense to use convolutional neural networks (convnets) as encoders and decoders. In practical settings, autoencoders applied to images are always convolutional autoencoders --they simply perform much better.\n",
    "\n",
    "Let's implement one. The encoder will consist in a stack of Conv2D and MaxPooling2D layers (max pooling being used for spatial down-sampling), while the decoder will consist in a stack of Conv2D and UpSampling2D layers."
   ]
  },
  {
   "cell_type": "code",
   "execution_count": 97,
   "metadata": {},
   "outputs": [],
   "source": [
    "from keras.layers import Input, Dense, Conv2D, MaxPooling2D, UpSampling2D\n",
    "from keras.models import Model\n",
    "from keras import backend as K\n"
   ]
  },
  {
   "cell_type": "code",
   "execution_count": 132,
   "metadata": {},
   "outputs": [
    {
     "name": "stdout",
     "output_type": "stream",
     "text": [
      "Tensor(\"conv2d_39/Relu:0\", shape=(None, 4, 4, 8), dtype=float32)\n",
      "Tensor(\"up_sampling2d_13/ResizeNearestNeighbor:0\", shape=(None, 8, 8, 8), dtype=float32)\n",
      "Tensor(\"conv2d_40/Relu:0\", shape=(None, 8, 8, 8), dtype=float32)\n",
      "Tensor(\"up_sampling2d_14/ResizeNearestNeighbor:0\", shape=(None, 16, 16, 8), dtype=float32)\n",
      "Tensor(\"conv2d_41/Relu:0\", shape=(None, 14, 14, 16), dtype=float32)\n",
      "Tensor(\"up_sampling2d_15/ResizeNearestNeighbor:0\", shape=(None, 28, 28, 16), dtype=float32)\n",
      "Tensor(\"conv2d_42/Sigmoid:0\", shape=(None, 28, 28, 1), dtype=float32)\n"
     ]
    }
   ],
   "source": [
    "input_img = Input(shape=(28,28,1))\n",
    "# now (28, 28, 1)\n",
    "x = Conv2D(16, (3,3), activation='relu', padding='same')(input_img)\n",
    "# now (28,28,16)\n",
    "x = MaxPooling2D((2,2), padding='same')(x)\n",
    "# now (14,14,16)\n",
    "x = Conv2D(8, (3,3), activation='relu', padding='same')(x)\n",
    "# now (13,13,8)\n",
    "x = MaxPooling2D((2,2), padding='same')(x)\n",
    "# now (7,7,8)\n",
    "x = Conv2D(8, (3,3), activation='relu', padding='same')(x)\n",
    "# now (7, 7, 8)\n",
    "encoded = MaxPooling2D((2,2), padding='same')(x)\n",
    "# now (4, 4, 8)\n",
    "\n",
    "encoder = Model(input_img, encoded)\n",
    "\n",
    "# at this point the representation is (4,4,8) i.e. 128-dim\n",
    "\n",
    "x = Conv2D(8, (3,3), activation='relu', padding='same')(encoded)\n",
    "print(x)\n",
    "# now (4, 4, 8)\n",
    "x = UpSampling2D((2,2))(x)\n",
    "print(x)\n",
    "# now (8, 8, 8)\n",
    "x = Conv2D(8,(3,3), activation='relu', padding='same')(x)\n",
    "print(x)\n",
    "# now (8, 8, 8)\n",
    "x = UpSampling2D((2,2))(x)\n",
    "print(x)\n",
    "# now (16, 16, 8)\n",
    "x = Conv2D(16, (3,3), activation='relu')(x)\n",
    "print(x)\n",
    "# now (14, 14, 16)\n",
    "x = UpSampling2D((2,2))(x)\n",
    "print(x)\n",
    "# now (28, 28, 16)\n",
    "decoded = Conv2D(1, (3,3), activation='sigmoid', padding='same')(x)\n",
    "print(decoded)\n",
    "# now (28, 28, 1)\n",
    "\n",
    "autoencoder = Model(input_img, decoded)\n",
    "\n",
    "\n",
    "\n",
    "# thisis the size of our encoded representations\n",
    "encoding_dim = (4,4,8) \n",
    "# create a placehoder for an encoded (32-dim) input\n",
    "encoded_input = Input(shape=encoding_dim)\n",
    "\n",
    "# retrive the last of the autencoder model\n",
    "decoder_layer_1 = autoencoder.layers[-7]\n",
    "decoder_layer_2 = autoencoder.layers[-6]\n",
    "decoder_layer_3 = autoencoder.layers[-5]\n",
    "decoder_layer_4 = autoencoder.layers[-4]\n",
    "decoder_layer_5 = autoencoder.layers[-3]\n",
    "decoder_layer_6 = autoencoder.layers[-2]\n",
    "decoder_layer_7 = autoencoder.layers[-1]\n",
    "all_layer = autoencoder.layers\n",
    "\n",
    "#create the decoder model\n",
    "decoder = Model(encoded_input, decoder_layer_7(decoder_layer_6(decoder_layer_5(decoder_layer_4(decoder_layer_3(decoder_layer_2(decoder_layer_1(encoded_input))))))))\n",
    "\n",
    "autoencoder.compile(optimizer='adadelta', loss='binary_crossentropy')"
   ]
  },
  {
   "cell_type": "code",
   "execution_count": 133,
   "metadata": {},
   "outputs": [
    {
     "name": "stdout",
     "output_type": "stream",
     "text": [
      "(60000, 28, 28, 1)\n",
      "(10000, 28, 28, 1)\n"
     ]
    }
   ],
   "source": [
    "# Let's prepare our input data. Let's prepare our input data. We're using MNIST digits, and we're discarding the labels (since we're only interested in encoding/decoding the input images).\n",
    "(x_train, _), (x_test, _) = mnist.load_data()\n",
    "x_train = x_train.astype('float32') / 255\n",
    "x_test = x_test.astype('float32') / 255\n",
    "x_train = np.reshape(x_train, (len(x_train), 28, 28, 1))\n",
    "x_test = np.reshape(x_test, (len(x_test), 28, 28, 1))\n",
    "print(x_train.shape)\n",
    "print(x_test.shape)"
   ]
  },
  {
   "cell_type": "code",
   "execution_count": 109,
   "metadata": {},
   "outputs": [],
   "source": [
    "#!tensorboard --logdir=/tmp/autoencoder"
   ]
  },
  {
   "cell_type": "code",
   "execution_count": 134,
   "metadata": {},
   "outputs": [
    {
     "name": "stdout",
     "output_type": "stream",
     "text": [
      "Train on 51000 samples, validate on 9000 samples\n",
      "Epoch 1/50\n",
      "51000/51000 [==============================] - 45s 885us/step - loss: 0.2153 - val_loss: 0.1745\n",
      "Epoch 2/50\n",
      "51000/51000 [==============================] - 44s 862us/step - loss: 0.1600 - val_loss: 0.1486\n",
      "Epoch 3/50\n",
      "51000/51000 [==============================] - 44s 863us/step - loss: 0.1446 - val_loss: 0.1420\n",
      "Epoch 4/50\n",
      "51000/51000 [==============================] - 44s 862us/step - loss: 0.1363 - val_loss: 0.1346\n",
      "Epoch 5/50\n",
      "51000/51000 [==============================] - 44s 862us/step - loss: 0.1312 - val_loss: 0.1315\n",
      "Epoch 6/50\n",
      "51000/51000 [==============================] - 44s 861us/step - loss: 0.1274 - val_loss: 0.1271\n",
      "Epoch 7/50\n",
      "51000/51000 [==============================] - 44s 865us/step - loss: 0.1247 - val_loss: 0.1223\n",
      "Epoch 8/50\n",
      "51000/51000 [==============================] - 44s 864us/step - loss: 0.1222 - val_loss: 0.1212\n",
      "Epoch 9/50\n",
      "51000/51000 [==============================] - 44s 864us/step - loss: 0.1199 - val_loss: 0.1169\n",
      "Epoch 10/50\n",
      "51000/51000 [==============================] - 44s 856us/step - loss: 0.1186 - val_loss: 0.1175\n",
      "Epoch 11/50\n",
      "51000/51000 [==============================] - 44s 866us/step - loss: 0.1169 - val_loss: 0.1182\n",
      "Epoch 12/50\n",
      "51000/51000 [==============================] - 45s 873us/step - loss: 0.1153 - val_loss: 0.1150\n",
      "Epoch 13/50\n",
      "51000/51000 [==============================] - 45s 875us/step - loss: 0.1144 - val_loss: 0.1122\n",
      "Epoch 14/50\n",
      "51000/51000 [==============================] - 44s 872us/step - loss: 0.1137 - val_loss: 0.1143\n",
      "Epoch 15/50\n",
      "51000/51000 [==============================] - 45s 877us/step - loss: 0.1124 - val_loss: 0.1110\n",
      "Epoch 16/50\n",
      "51000/51000 [==============================] - 45s 873us/step - loss: 0.1114 - val_loss: 0.1102\n",
      "Epoch 17/50\n",
      "51000/51000 [==============================] - 44s 868us/step - loss: 0.1112 - val_loss: 0.1110\n",
      "Epoch 18/50\n",
      "51000/51000 [==============================] - 45s 873us/step - loss: 0.1105 - val_loss: 0.1124\n",
      "Epoch 19/50\n",
      "51000/51000 [==============================] - 44s 870us/step - loss: 0.1099 - val_loss: 0.1119\n",
      "Epoch 20/50\n",
      "51000/51000 [==============================] - 44s 871us/step - loss: 0.1092 - val_loss: 0.1103\n",
      "Epoch 21/50\n",
      "51000/51000 [==============================] - 44s 865us/step - loss: 0.1087 - val_loss: 0.1080\n",
      "Epoch 22/50\n",
      "51000/51000 [==============================] - 45s 874us/step - loss: 0.1081 - val_loss: 0.1086\n",
      "Epoch 23/50\n",
      "51000/51000 [==============================] - 45s 877us/step - loss: 0.1076 - val_loss: 0.1084\n",
      "Epoch 24/50\n",
      "51000/51000 [==============================] - 45s 876us/step - loss: 0.1074 - val_loss: 0.1060\n",
      "Epoch 25/50\n",
      "51000/51000 [==============================] - 45s 876us/step - loss: 0.1069 - val_loss: 0.1045\n",
      "Epoch 26/50\n",
      "51000/51000 [==============================] - 45s 876us/step - loss: 0.1060 - val_loss: 0.1071\n",
      "Epoch 27/50\n",
      "51000/51000 [==============================] - 45s 879us/step - loss: 0.1061 - val_loss: 0.1062\n",
      "Epoch 28/50\n",
      "51000/51000 [==============================] - 43s 852us/step - loss: 0.1057 - val_loss: 0.1069\n",
      "Epoch 29/50\n",
      "51000/51000 [==============================] - 41s 801us/step - loss: 0.1056 - val_loss: 0.1081\n",
      "Epoch 30/50\n",
      "51000/51000 [==============================] - 41s 807us/step - loss: 0.1049 - val_loss: 0.1048\n",
      "Epoch 31/50\n",
      "51000/51000 [==============================] - 41s 808us/step - loss: 0.1051 - val_loss: 0.1029\n",
      "Epoch 32/50\n",
      "51000/51000 [==============================] - 41s 803us/step - loss: 0.1046 - val_loss: 0.1060\n",
      "Epoch 33/50\n",
      "51000/51000 [==============================] - 41s 811us/step - loss: 0.1042 - val_loss: 0.1067\n",
      "Epoch 34/50\n",
      "51000/51000 [==============================] - 41s 806us/step - loss: 0.1040 - val_loss: 0.1048\n",
      "Epoch 35/50\n",
      "51000/51000 [==============================] - 40s 785us/step - loss: 0.1036 - val_loss: 0.1032\n",
      "Epoch 36/50\n",
      "51000/51000 [==============================] - 607s 12ms/step - loss: 0.1036 - val_loss: 0.1030\n",
      "Epoch 37/50\n",
      "51000/51000 [==============================] - 598s 12ms/step - loss: 0.1032 - val_loss: 0.1031\n",
      "Epoch 38/50\n",
      "51000/51000 [==============================] - 640s 13ms/step - loss: 0.1029 - val_loss: 0.1061\n",
      "Epoch 39/50\n",
      "51000/51000 [==============================] - 1191s 23ms/step - loss: 0.1025 - val_loss: 0.1011\n",
      "Epoch 40/50\n",
      "51000/51000 [==============================] - 659s 13ms/step - loss: 0.1021 - val_loss: 0.1019\n",
      "Epoch 41/50\n",
      "51000/51000 [==============================] - 1204s 24ms/step - loss: 0.1020 - val_loss: 0.1025\n",
      "Epoch 42/50\n",
      "51000/51000 [==============================] - 1208s 24ms/step - loss: 0.1019 - val_loss: 0.1053\n",
      "Epoch 43/50\n",
      "51000/51000 [==============================] - 641s 13ms/step - loss: 0.1015 - val_loss: 0.1008\n",
      "Epoch 44/50\n",
      "51000/51000 [==============================] - 1202s 24ms/step - loss: 0.1014 - val_loss: 0.1031\n",
      "Epoch 45/50\n",
      "51000/51000 [==============================] - 646s 13ms/step - loss: 0.1015 - val_loss: 0.1021\n",
      "Epoch 46/50\n",
      "51000/51000 [==============================] - 993s 19ms/step - loss: 0.1013 - val_loss: 0.1038\n",
      "Epoch 47/50\n",
      "51000/51000 [==============================] - 154s 3ms/step - loss: 0.1013 - val_loss: 0.1008\n",
      "Epoch 48/50\n",
      "51000/51000 [==============================] - 1190s 23ms/step - loss: 0.1006 - val_loss: 0.1002\n",
      "Epoch 49/50\n",
      "51000/51000 [==============================] - 621s 12ms/step - loss: 0.1005 - val_loss: 0.1000\n",
      "Epoch 50/50\n",
      "51000/51000 [==============================] - 708s 14ms/step - loss: 0.1005 - val_loss: 0.1005\n"
     ]
    },
    {
     "data": {
      "text/plain": [
       "<keras.callbacks.callbacks.History at 0x1583cdf98>"
      ]
     },
     "execution_count": 134,
     "metadata": {},
     "output_type": "execute_result"
    }
   ],
   "source": [
    "from keras.callbacks import TensorBoard\n",
    "\n",
    "autoencoder.fit(x_train, x_train,\n",
    "                epochs=50,\n",
    "                batch_size=128,\n",
    "                shuffle=True,\n",
    "                validation_split=.15,\n",
    "                callbacks=[TensorBoard(log_dir='/tmp/autoencoder')])"
   ]
  },
  {
   "cell_type": "code",
   "execution_count": 135,
   "metadata": {},
   "outputs": [
    {
     "data": {
      "image/png": "[encoded data removed]",
      "text/plain": [
       "<Figure size 432x288 with 1 Axes>"
      ]
     },
     "metadata": {
      "needs_background": "light"
     },
     "output_type": "display_data"
    },
    {
     "data": {
      "image/png": "[encoded data removed]",
      "text/plain": [
       "<Figure size 1440x288 with 20 Axes>"
      ]
     },
     "metadata": {
      "needs_background": "light"
     },
     "output_type": "display_data"
    }
   ],
   "source": [
    "train_loss = autoencoder.history.history['loss']\n",
    "val_loss = autoencoder.history.history['val_loss']\n",
    "plt.scatter(autoencoder.history.epoch[20:],train_loss[20:],c='r')\n",
    "plt.scatter(autoencoder.history.epoch[20:],val_loss[20:])\n",
    "######\n",
    "decoded_imgs = autoencoder.predict(x_test)\n",
    "\n",
    "n = 10\n",
    "plt.figure(figsize=(20 ,4))\n",
    "for i in range(n):\n",
    "    ax = plt.subplot(2, n, i + 1)\n",
    "    plt.imshow(x_test[i].reshape(28, 28))\n",
    "    plt.gray()\n",
    "    ax.get_xaxis().set_visible(False)\n",
    "    ax.get_yaxis().set_visible(False)\n",
    "\n",
    "    # display reconstruction\n",
    "    ax = plt.subplot(2, n, i + 1 + n)\n",
    "    plt.imshow(decoded_imgs[i].reshape(28, 28))\n",
    "    plt.gray()\n",
    "    ax.get_xaxis().set_visible(False)\n",
    "    ax.get_yaxis().set_visible(False)\n",
    "plt.show()"
   ]
  },
  {
   "cell_type": "code",
   "execution_count": 150,
   "metadata": {},
   "outputs": [],
   "source": [
    "encoded_imgs = encoder.predict(x_test)"
   ]
  },
  {
   "cell_type": "code",
   "execution_count": 154,
   "metadata": {},
   "outputs": [
    {
     "data": {
      "text/plain": [
       "<matplotlib.image.AxesImage at 0x159820518>"
      ]
     },
     "execution_count": 154,
     "metadata": {},
     "output_type": "execute_result"
    },
    {
     "data": {
      "image/png": "[encoded data removed]",
      "text/plain": [
       "<Figure size 432x288 with 1 Axes>"
      ]
     },
     "metadata": {
      "needs_background": "light"
     },
     "output_type": "display_data"
    }
   ],
   "source": [
    "plt.imshow(encoded_imgs[0].reshape(4, 4 * 8).T)"
   ]
  },
  {
   "cell_type": "code",
   "execution_count": 156,
   "metadata": {},
   "outputs": [
    {
     "data": {
      "image/png": "[encoded data removed]",
      "text/plain": [
       "<Figure size 1440x576 with 1 Axes>"
      ]
     },
     "metadata": {
      "needs_background": "light"
     },
     "output_type": "display_data"
    }
   ],
   "source": [
    "n = 10\n",
    "plt.figure(figsize=(20, 8))\n",
    "for i in range(n):\n",
    "#     ax = plt.subplot(1, n, i)\n",
    "    plt.imshow(encoded_imgs[i].reshape(4, 4 * 8).T)\n",
    "#     plt.gray()\n",
    "#     ax.get_xaxis().set_visible(False)\n",
    "#     ax.get_yaxis().set_visible(False)\n",
    "plt.show()"
   ]
  },
  {
   "cell_type": "code",
   "execution_count": null,
   "metadata": {},
   "outputs": [],
   "source": []
  }
 ],
 "metadata": {
  "kernelspec": {
   "display_name": "Python 3",
   "language": "python",
   "name": "python3"
  },
  "language_info": {
   "codemirror_mode": {
    "name": "ipython",
    "version": 3
   },
   "file_extension": ".py",
   "mimetype": "text/x-python",
   "name": "python",
   "nbconvert_exporter": "python",
   "pygments_lexer": "ipython3",
   "version": "3.6.8"
  }
 },
 "nbformat": 4,
 "nbformat_minor": 4
}
